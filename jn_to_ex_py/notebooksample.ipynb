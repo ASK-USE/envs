{
 "cells": [
  {
   "cell_type": "markdown",
   "metadata": {},
   "source": [
    "# Notebooksample 0.0.1"
   ]
  },
  {
   "cell_type": "markdown",
   "metadata": {},
   "source": [
    "## Codesample 1  Database"
   ]
  },
  {
   "cell_type": "code",
   "execution_count": null,
   "metadata": {},
   "outputs": [],
   "source": [
    "import pandas as pd\n",
    "# Create a simple dataset\n",
    "data = {\n",
    "    'Name': ['Alice', 'Bob', 'Charlie', 'David', 'Emily'],\n",
    "    'Age': [25, 30, 22, 28, 24],\n",
    "    'Salary': [50000, 60000, 45000, 55000, 52000]\n",
    "}\n",
    "\n",
    "# Create a DataFrame\n",
    "df = pd.DataFrame(data)\n",
    "\n",
    "# Display the DataFrame\n",
    "df"
   ]
  },
  {
   "cell_type": "markdown",
   "metadata": {},
   "source": [
    "# Codesample 2 = Maths "
   ]
  },
  {
   "cell_type": "code",
   "execution_count": null,
   "metadata": {},
   "outputs": [],
   "source": [
    "import matplotlib.pyplot as plt\n",
    "\n",
    "# Calculate average age and salary\n",
    "average_age = df['Age'].mean()\n",
    "average_salary = df['Salary'].mean()\n",
    "\n",
    "# Print the calculated values\n",
    "print(\"Average Age:\", average_age)\n",
    "print(\"Average Salary:\", average_salary)\n",
    "\n",
    "# Create a bar plot of salaries\n",
    "plt.bar(df['Name'], df['Salary'])\n",
    "plt.xlabel('Name')\n",
    "plt.ylabel('Salary')\n",
    "plt.title('Salary Distribution')\n",
    "plt.show()"
   ]
  },
  {
   "cell_type": "markdown",
   "metadata": {},
   "source": [
    "## Markdownsample = Integrating a Picture: "
   ]
  },
  {
   "cell_type": "markdown",
   "metadata": {},
   "source": [
    "![Titanic](https://upload.wikimedia.org/wikipedia/commons/thumb/f/fd/RMS_Titanic_3.jpg/1024px-RMS_Titanic_3.jpg)\n",
    "\n",
    "Image Source: [Wikipedia](https://en.wikipedia.org/wiki/RMS_Titanic)"
   ]
  },
  {
   "cell_type": "code",
   "execution_count": null,
   "metadata": {},
   "outputs": [],
   "source": [
    "# Python-Converter \n",
    "\"\"\"\n",
    "from nbconvert import PythonExporter\n",
    "import nbformat\n",
    "from datetime import datetime, timezone # erstellen von timestamps \n",
    "\n",
    "# import os # erstellen fortlaufender nummern = counter \n",
    "\n",
    "# Zähler für die Nummerierung bei import os \n",
    "# counter = 1 \n",
    "\n",
    "# Generierung des Timestamps im Format \"JJMMTT.hh-mm-ss\"\n",
    "utc_timestamp = datetime.now(timezone.utc).strftime(\"%y%m%d_%H-%M-%S\")\n",
    "\n",
    "# Laden des Notebooks\n",
    "with open(\"notebooksample.ipynb\", \"r\") as f:\n",
    "    nb = nbformat.read(f, as_version=4)\n",
    "\n",
    "# Erstellen des Python Exporters\n",
    "pe = PythonExporter()\n",
    "\n",
    "# Speichern der konvertierten Python-Datei mit dem Timestamp im Dateinamen\n",
    "file_name = f'converted_sample_{utc_timestamp}.py'\n",
    "with open(file_name, 'w') as f:\n",
    "    (body, resources) = pe.from_notebook_node(nb)\n",
    "    f.write(body)\n",
    "\"\"\"\n",
    "\"\"\"# Konvertieren des Notebooks in eine Python-Datei mit fortlaufender Nummerierung\n",
    "while os.path.exists(f\"converted_sample{counter}.py\"):\n",
    "  counter += 1  \n",
    "\n",
    "# Speichern der konvertierten Python-Datei\n",
    "with open(f\"converted_sample{counter}.py\", \"w\") as f:\n",
    "    (body, resources) = pe.from_notebook_node(nb)\n",
    "    f.write(body)\"\"\""
   ]
  },
  {
   "cell_type": "code",
   "execution_count": null,
   "metadata": {},
   "outputs": [],
   "source": [
    "# HTML-Converter\n",
    "\n",
    "\"\"\"from nbconvert.preprocessors import ExecutePreprocessor\n",
    "from nbconvert import HTMLExporter\n",
    "import nbformat\n",
    "from numpy import nbytes\n",
    "\n",
    "# Erstellen des Preprocessors\n",
    "ep = ExecutePreprocessor(timeout=-1)\n",
    "\n",
    "# Ausführen des Notebooks\n",
    "ep.preprocess(nbformat, {'metadata': {'path': './'}})\n",
    "\n",
    "# Konvertieren des Notebooks in HTML\n",
    "html_exporter = HTMLExporter()\n",
    "(body, resources) = html_exporter.from_notebook_node(nbytes)\n",
    "\n",
    "# Speichern der konvertierten Datei\n",
    "with open('converted_sample.html', 'w') as f:\n",
    "    f.write(body)\"\"\""
   ]
  }
 ],
 "metadata": {
  "kernelspec": {
   "display_name": "base",
   "language": "python",
   "name": "python3"
  },
  "language_info": {
   "codemirror_mode": {
    "name": "ipython",
    "version": 3
   },
   "file_extension": ".py",
   "mimetype": "text/x-python",
   "name": "python",
   "nbconvert_exporter": "python",
   "pygments_lexer": "ipython3",
   "version": "3.11.5"
  }
 },
 "nbformat": 4,
 "nbformat_minor": 2
}
